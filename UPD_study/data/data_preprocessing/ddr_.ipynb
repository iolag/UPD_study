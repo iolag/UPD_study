{
 "cells": [
  {
   "cell_type": "code",
   "execution_count": 2,
   "metadata": {},
   "outputs": [],
   "source": [
    "from glob import glob\n",
    "import os\n",
    "from tifffile import imread\n",
    "from matplotlib import pyplot as plt\n",
    "import numpy as np\n",
    "from PIL import Image"
   ]
  },
  {
   "cell_type": "code",
   "execution_count": 30,
   "metadata": {},
   "outputs": [],
   "source": [
    "x = ['train', 'valid', 'test']\n",
    "for set in x:\n",
    "    with open (f'/u/home/lagi/thesis/UAD_study/DDR-dataset/DR_grading/{set}.txt', 'r') as labels:\n",
    "        normals = [line.split(' ')[0] for line in labels if line[-2] == '0']\n",
    "        for name in normals:\n",
    "            current_path = f\"/u/home/lagi/thesis/UAD_study/DDR-dataset/DR_grading/{set}/{name}\"\n",
    "            target_path = f\"/u/home/lagi/thesis/UAD_study/DDR-dataset/healthy/{name}\"\n",
    "            os.rename(current_path, target_path)\n"
   ]
  },
  {
   "cell_type": "code",
   "execution_count": 69,
   "metadata": {},
   "outputs": [],
   "source": [
    "\n",
    "\n",
    "\n",
    "segm_list = sorted(glob('/u/home/lagi/thesis/UAD_study/DDR-dataset/lesion_segmentation/*/image/*'))\n",
    "for seg in segm_list:\n",
    "    x = seg.split('/')[-1].split('.')[0]\n",
    "    segs = glob(f'/u/home/lagi/thesis/UAD_study/DDR-dataset/lesion_segmentation/*/label/*/{x}.tif')\n",
    "    total = imread(segs[0]) + imread(segs[1]) + imread(segs[2]) + imread(segs[3])\n",
    "    total = np.where (total != 0, 255, 0)\n",
    "    save_path = f'/u/home/lagi/thesis/UAD_study/DDR-dataset/unhealthy/segmentations/{x}.png'\n",
    "    Image.fromarray(total.save(save_path))\n",
    "\n"
   ]
  }
 ],
 "metadata": {
  "kernelspec": {
   "display_name": "Python 3.9.12 ('base')",
   "language": "python",
   "name": "python3"
  },
  "language_info": {
   "codemirror_mode": {
    "name": "ipython",
    "version": 3
   },
   "file_extension": ".py",
   "mimetype": "text/x-python",
   "name": "python",
   "nbconvert_exporter": "python",
   "pygments_lexer": "ipython3",
   "version": "3.9.12"
  },
  "orig_nbformat": 4,
  "vscode": {
   "interpreter": {
    "hash": "7d4637a0b1070ef21df765574bf6ae69de8bcd5e3eaa5e0686a3a900e4ae65d6"
   }
  }
 },
 "nbformat": 4,
 "nbformat_minor": 2
}
